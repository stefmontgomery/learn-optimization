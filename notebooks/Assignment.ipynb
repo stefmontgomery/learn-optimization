{
 "cells": [
  {
   "attachments": {},
   "cell_type": "markdown",
   "id": "ac216b8a",
   "metadata": {},
   "source": [
    "# Assignment problem\n",
    "\n",
    "- Two sets, where the goal is to match objects in sets and optimize some decision\n",
    "- Constraints ensure that each object is matched only once\n",
    "- This is a special case of a transportation problem where all supply and demand are 1\n",
    "- Since it is a transportation problem, it will have an integer solution"
   ]
  },
  {
   "cell_type": "markdown",
   "id": "6af2e9d6",
   "metadata": {},
   "source": [
    "## Problem description\n",
    "\n",
    "*This problem is from the MSBA Optimization course.*\n",
    "\n",
    "There are 4 pieces of land and 6 bidders. Each bidder wants at most one piece of land. Which bids should be accepted to maximize revenue?"
   ]
  },
  {
   "cell_type": "markdown",
   "id": "c073a667",
   "metadata": {},
   "source": [
    "## Mathematical formulation\n",
    "\n",
    "- Zones $i$\n",
    "- Buyers $j$\n",
    "- b_{i,j}: Bid for zone i by buyer j\n",
    "\n",
    "**Variables**\n",
    "\n",
    "- $x_{i,j}$: 1 if bid for zone $i$ is accepted from buyer $j$, 0 otherwise\n",
    "\n",
    "**Objective**\n",
    "\n",
    "Maximize the accepted bid amount.\n",
    "\n",
    "$\\sum\\nolimits_{i} \\sum\\nolimits_{j} b_{i,j} \\cdot x_{i,j}$\n",
    "\n",
    "**Constraints**\n",
    "\n",
    "Every zone must be sold only once (1). Each bidder can win at most one zone (2).\n",
    "\n",
    "1. $\\sum\\nolimits_{j} x_{i,j} = 1 \\, \\forall i$\n",
    "2. $\\sum\\nolimits_{i} x_{i,j} \\leq 1 \\, \\forall j$"
   ]
  },
  {
   "cell_type": "markdown",
   "id": "6b8faeec",
   "metadata": {},
   "source": [
    "## PuLP model"
   ]
  },
  {
   "cell_type": "code",
   "execution_count": 1,
   "id": "821c6df6",
   "metadata": {},
   "outputs": [],
   "source": [
    "# Assignment Problem: data\n",
    "Zones = ['Zone 1', 'Zone 2', 'Zone 3', 'Zone 4']\n",
    "Bidders = ['A', 'B', 'C', 'D', 'E', 'F']\n",
    "\n",
    "Bids = {\n",
    "    ('Zone 1', 'A') : 17.7,\t('Zone 1', 'B') : 17.8,\t('Zone 1', 'C') : 18.1,\t('Zone 1', 'D') : 17.9,\t('Zone 1', 'E') : 17.6,\t('Zone 1', 'F') : 17.4,\n",
    "    ('Zone 2', 'A') : 16.3,\t('Zone 2', 'B') : 17.2,\t('Zone 2', 'C') : 17.4,\t('Zone 2', 'D') : 16.8,\t('Zone 2', 'E') : 17.3,\t('Zone 2', 'F') : 16.4,\n",
    "    ('Zone 3', 'A') : 17.8,\t('Zone 3', 'B') : 17.6,\t('Zone 3', 'C') : 18.5,\t('Zone 3', 'D') : 16.9,\t('Zone 3', 'E') : 18.3,\t('Zone 3', 'F') : 18,\n",
    "    ('Zone 4', 'A') : 17.1,\t('Zone 4', 'B') : 18,\t('Zone 4', 'C') : 18.3,\t('Zone 4', 'D') : 18,\t('Zone 4', 'E') : 18.1,\t('Zone 4', 'F') : 17.6\n",
    "}"
   ]
  },
  {
   "cell_type": "code",
   "execution_count": 51,
   "id": "fc74e726",
   "metadata": {},
   "outputs": [],
   "source": [
    "import pulp"
   ]
  },
  {
   "cell_type": "code",
   "execution_count": 52,
   "id": "564dd60a",
   "metadata": {},
   "outputs": [],
   "source": [
    "## Create model as maximization problem\n",
    "mdl = pulp.LpProblem(\"BidAssignment\", pulp.LpMaximize)"
   ]
  },
  {
   "cell_type": "code",
   "execution_count": 53,
   "id": "9c56319d",
   "metadata": {},
   "outputs": [],
   "source": [
    "## Create the matrix assignment variable\n",
    "assign = pulp.LpVariable.dicts(\"Bids\", ((i, j) for i in Zones for j in Bidders),\n",
    "                              lowBound = 0,\n",
    "                              upBound = 1)"
   ]
  },
  {
   "cell_type": "code",
   "execution_count": 54,
   "id": "f00621a0",
   "metadata": {},
   "outputs": [],
   "source": [
    "## Maximize the accepted bid amount\n",
    "mdl += pulp.lpSum([assign[i,j] * Bids[i,j] for i, j in assign])"
   ]
  },
  {
   "cell_type": "code",
   "execution_count": 55,
   "id": "d7785892",
   "metadata": {},
   "outputs": [],
   "source": [
    "## Constraint 1: Each zone sold once\n",
    "for i in Zones:\n",
    "    cname = \"Zone sold once \"+i\n",
    "    mdl += (\n",
    "        pulp.lpSum([assign[i,j] for j in Bidders]) == 1,\n",
    "        cname,\n",
    "    )"
   ]
  },
  {
   "cell_type": "code",
   "execution_count": 56,
   "id": "b6f1f9fc",
   "metadata": {},
   "outputs": [],
   "source": [
    "## Constraint 2: Each bidder only sold at most one zone\n",
    "for j in Bidders:\n",
    "    cname = \"Bidder wins at most once \"+j\n",
    "    mdl += (\n",
    "        pulp.lpSum([assign[i,j] for i in Zones]) <= 1,\n",
    "        cname,\n",
    "    )"
   ]
  },
  {
   "cell_type": "code",
   "execution_count": 58,
   "id": "8701efe5",
   "metadata": {},
   "outputs": [
    {
     "name": "stdout",
     "output_type": "stream",
     "text": [
      "Welcome to the CBC MILP Solver \n",
      "Version: 2.10.3 \n",
      "Build Date: Dec 15 2019 \n",
      "\n",
      "command line - /Users/smontgom/opt/anaconda3/envs/opt/lib/python3.9/site-packages/pulp/apis/../solverdir/cbc/osx/64/cbc /var/folders/w1/99fv6vmj5h5dv7xr2y9jg_3c0000gn/T/6a52a918ccdc445283dc1ef58d8fdc44-pulp.mps max timeMode elapsed branch printingOptions all solution /var/folders/w1/99fv6vmj5h5dv7xr2y9jg_3c0000gn/T/6a52a918ccdc445283dc1ef58d8fdc44-pulp.sol (default strategy 1)\n",
      "At line 2 NAME          MODEL\n",
      "At line 3 ROWS\n",
      "At line 15 COLUMNS\n",
      "At line 88 RHS\n",
      "At line 99 BOUNDS\n",
      "At line 124 ENDATA\n",
      "Problem MODEL has 10 rows, 24 columns and 48 elements\n",
      "Coin0008I MODEL read with 0 errors\n",
      "Option for timeMode changed from cpu to elapsed\n",
      "Presolve 10 (0) rows, 24 (0) columns and 48 (0) elements\n",
      "0  Obj -0 Primal inf 3.9999996 (4) Dual inf 422.1 (24)\n",
      "8  Obj 71.7\n",
      "Optimal - objective value 71.7\n",
      "Optimal objective 71.7 - 8 iterations time 0.002\n",
      "Option for printingOptions changed from normal to all\n",
      "Total time (CPU seconds):       0.00   (Wallclock seconds):       0.00\n",
      "\n"
     ]
    },
    {
     "data": {
      "text/plain": [
       "1"
      ]
     },
     "execution_count": 58,
     "metadata": {},
     "output_type": "execute_result"
    }
   ],
   "source": [
    "mdl.solve()"
   ]
  },
  {
   "cell_type": "markdown",
   "id": "c8b52d8a",
   "metadata": {},
   "source": [
    "## Solution report"
   ]
  },
  {
   "cell_type": "code",
   "execution_count": 63,
   "id": "7d62759b",
   "metadata": {},
   "outputs": [
    {
     "name": "stdout",
     "output_type": "stream",
     "text": [
      "Max revenue: 71.70\n"
     ]
    }
   ],
   "source": [
    "max_revenue = pulp.value(mdl.objective)\n",
    "print(\"Max revenue: {:.2f}\".format(max_revenue))"
   ]
  },
  {
   "cell_type": "code",
   "execution_count": 66,
   "id": "9c32cbd9",
   "metadata": {},
   "outputs": [
    {
     "name": "stdout",
     "output_type": "stream",
     "text": [
      "Zone 1 bid accepted: D\n",
      "Zone 2 bid accepted: B\n",
      "Zone 3 bid accepted: E\n",
      "Zone 4 bid accepted: C\n"
     ]
    }
   ],
   "source": [
    "for i in Zones:\n",
    "     for j in Bidders:\n",
    "            if (pulp.value(assign[i,j]) == 1):\n",
    "                print(\"{:s} bid accepted: {:s}\".format(i,j))"
   ]
  },
  {
   "cell_type": "code",
   "execution_count": null,
   "id": "2208b45b",
   "metadata": {},
   "outputs": [],
   "source": []
  }
 ],
 "metadata": {
  "kernelspec": {
   "display_name": "Python (opt)",
   "language": "python",
   "name": "opt"
  },
  "language_info": {
   "codemirror_mode": {
    "name": "ipython",
    "version": 3
   },
   "file_extension": ".py",
   "mimetype": "text/x-python",
   "name": "python",
   "nbconvert_exporter": "python",
   "pygments_lexer": "ipython3",
   "version": "3.9.7"
  }
 },
 "nbformat": 4,
 "nbformat_minor": 5
}
