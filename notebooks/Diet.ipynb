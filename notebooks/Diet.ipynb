{
 "cells": [
  {
   "cell_type": "markdown",
   "metadata": {},
   "source": [
    "# Diet problem\n",
    "\n",
    "The diet problem is an example of a general **mixing problem** (bond portfolios, marketing mix, etc.).\n",
    "\n",
    "Generally, these are characterized by a collection of items with characteristics that can be combined in a way to satisfy some set of requirements. Each item will be associated with a cost or a profit to minimize or maximize."
   ]
  },
  {
   "cell_type": "markdown",
   "metadata": {},
   "source": [
    "## Problem description\n",
    "\n",
    "*This problem is from the MSBA Optimization course.*\n",
    "\n",
    "Find the minimum cost diet that satsifies the given nutritional requirements."
   ]
  },
  {
   "cell_type": "markdown",
   "metadata": {},
   "source": [
    "## Mathematical formulation\n",
    "\n",
    "- $c_i$:; Cost of food $i$\n",
    "- $a_{i,j}$: Content of nutrient $j$ in food $i$\n",
    "- $R_{j}$: Requirement of nutrient $j$\n",
    "\n",
    "**Variables**:\n",
    "\n",
    "- $x_i$: Amount of food $i$ in diet\n",
    "\n",
    "**Objective**:\n",
    "\n",
    "Minimize $\\sum\\nolimits_{i} c_i x_i$\n",
    "\n",
    "**Constraints**:\n",
    "\n",
    "1. $x_i \\geq 0$\n",
    "2. $\\sum\\nolimits_{i} a_{i,j} x_{i,j} \\geq R_{j} \\forall j $"
   ]
  },
  {
   "cell_type": "markdown",
   "metadata": {},
   "source": [
    "## PuLP model"
   ]
  },
  {
   "cell_type": "code",
   "execution_count": 1,
   "metadata": {},
   "outputs": [],
   "source": [
    "#\n",
    "# Diet Problem: Large data set\n",
    "#\n",
    "Foods = ['Frozen Broccoli  ', 'Carrots,Raw ', 'Celery, Raw ', 'Frozen Corn ', 'Lettuce,Iceberg,Raw ', 'Peppers, Sweet, Raw ', 'Potatoes, Baked ', 'Tofu ', 'Roasted Chicken ', 'Spaghetti W/ Sauce ', 'Tomato,Red,Ripe,Raw ', 'Apple,Raw,W/Skin ', 'Banana ', 'Grapes ', 'Kiwifruit,Raw,Fresh ', 'Oranges ', 'Bagels ', 'Wheat Bread ', 'White Bread ', 'Oatmeal Cookies ', 'Apple Pie ', 'Chocolate Chip Cookies ', 'Butter,Regular ', 'Cheddar Cheese ', '3.3% Fat,Whole Milk ', '2% Lowfat Milk ', 'Skim Milk ', 'Poached Eggs ', 'Scrambled Eggs ', 'Bologna,Turkey ', 'Frankfurter, Beef ', 'Ham,Sliced,Extralean ', 'Kielbasa,Prk ', \"Cap'N Crunch \", 'Cheerios ', \"Corn Flks, Kellogg'S \", \"Raisin Brn, Kellg'S \", 'Rice Krispies ', 'Special K ', 'Oatmeal ', 'Malt-O-Meal,Choc ', 'Pizza W/Pepperoni ', 'Taco ', 'Hamburger W/Toppings ', 'Hotdog, Plain ', 'Couscous ', 'White Rice ', 'Macaroni,Ckd ', 'Peanut Butter ', 'Pork ', 'Sardines in Oil ', 'White Tuna in Water ', 'Popcorn,Air-Popped ', 'Potato Chips,Bbqflvr ', 'Pretzels ', 'Tortilla Chip ', 'Chicknoodl Soup ', 'Splt Pea&Hamsoup ', 'Vegetbeef Soup ', 'Neweng Clamchwd ', 'Tomato Soup ', 'New E Clamchwd,W/Mlk ', 'Crm Mshrm Soup,W/Mlk ', 'Beanbacn Soup,W/Watr ']\n",
    "Nutrients = ['Calories', 'Cholesterol mg', 'Total_Fat g', 'Sodium mg', 'Carbohydrates g', 'Dietary_Fiber g', 'Protein g', 'Vit_A IU', 'Vit_C IU', 'Calcium mg', 'Iron mg']\n",
    "\n",
    "Cost = {'Frozen Broccoli  ': 0.16, 'Carrots,Raw ': 0.07, 'Celery, Raw ': 0.04, 'Frozen Corn ': 0.18, 'Lettuce,Iceberg,Raw ': 0.02, 'Peppers, Sweet, Raw ': 0.53, 'Potatoes, Baked ': 0.06, 'Tofu ': 0.31, 'Roasted Chicken ': 0.84, 'Spaghetti W/ Sauce ': 0.78, 'Tomato,Red,Ripe,Raw ': 0.27, 'Apple,Raw,W/Skin ': 0.24, 'Banana ': 0.15, 'Grapes ': 0.32, 'Kiwifruit,Raw,Fresh ': 0.49, 'Oranges ': 0.15, 'Bagels ': 0.16, 'Wheat Bread ': 0.05, 'White Bread ': 0.06, 'Oatmeal Cookies ': 0.09, 'Apple Pie ': 0.16, 'Chocolate Chip Cookies ': 0.03, 'Butter,Regular ': 0.05, 'Cheddar Cheese ': 0.25, '3.3% Fat,Whole Milk ': 0.16, '2% Lowfat Milk ': 0.23, 'Skim Milk ': 0.13, 'Poached Eggs ': 0.08, 'Scrambled Eggs ': 0.11, 'Bologna,Turkey ': 0.15, 'Frankfurter, Beef ': 0.27, 'Ham,Sliced,Extralean ': 0.33, 'Kielbasa,Prk ': 0.15, \"Cap'N Crunch \": 0.31, 'Cheerios ': 0.28, \"Corn Flks, Kellogg'S \": 0.28, \"Raisin Brn, Kellg'S \": 0.34, 'Rice Krispies ': 0.32, 'Special K ': 0.38, 'Oatmeal ': 0.82, 'Malt-O-Meal,Choc ': 0.52, 'Pizza W/Pepperoni ': 0.44, 'Taco ': 0.59, 'Hamburger W/Toppings ': 0.83, 'Hotdog, Plain ': 0.31, 'Couscous ': 0.39, 'White Rice ': 0.08, 'Macaroni,Ckd ': 0.17, 'Peanut Butter ': 0.07, 'Pork ': 0.81, 'Sardines in Oil ': 0.45, 'White Tuna in Water ': 0.69, 'Popcorn,Air-Popped ': 0.04, 'Potato Chips,Bbqflvr ': 0.22, 'Pretzels ': 0.12, 'Tortilla Chip ': 0.19, 'Chicknoodl Soup ': 0.39, 'Splt Pea&Hamsoup ': 0.67, 'Vegetbeef Soup ': 0.71, 'Neweng Clamchwd ': 0.75, 'Tomato Soup ': 0.39, 'New E Clamchwd,W/Mlk ': 0.99, 'Crm Mshrm Soup,W/Mlk ': 0.65, 'Beanbacn Soup,W/Watr ': 0.67}\n",
    "Nutrition = {('Frozen Broccoli  ', 'Calories'): 73.8, ('Carrots,Raw ', 'Calories'): 23.7, ('Celery, Raw ', 'Calories'): 6.4, ('Frozen Corn ', 'Calories'): 72.2, ('Lettuce,Iceberg,Raw ', 'Calories'): 2.6, ('Peppers, Sweet, Raw ', 'Calories'): 20.0, ('Potatoes, Baked ', 'Calories'): 171.5, ('Tofu ', 'Calories'): 88.2, ('Roasted Chicken ', 'Calories'): 277.4, ('Spaghetti W/ Sauce ', 'Calories'): 358.2, ('Tomato,Red,Ripe,Raw ', 'Calories'): 25.8, ('Apple,Raw,W/Skin ', 'Calories'): 81.4, ('Banana ', 'Calories'): 104.9, ('Grapes ', 'Calories'): 15.1, ('Kiwifruit,Raw,Fresh ', 'Calories'): 46.4, ('Oranges ', 'Calories'): 61.6, ('Bagels ', 'Calories'): 78.0, ('Wheat Bread ', 'Calories'): 65.0, ('White Bread ', 'Calories'): 65.0, ('Oatmeal Cookies ', 'Calories'): 81.0, ('Apple Pie ', 'Calories'): 67.2, ('Chocolate Chip Cookies ', 'Calories'): 78.1, ('Butter,Regular ', 'Calories'): 35.8, ('Cheddar Cheese ', 'Calories'): 112.7, ('3.3% Fat,Whole Milk ', 'Calories'): 149.9, ('2% Lowfat Milk ', 'Calories'): 121.2, ('Skim Milk ', 'Calories'): 85.5, ('Poached Eggs ', 'Calories'): 74.5, ('Scrambled Eggs ', 'Calories'): 99.6, ('Bologna,Turkey ', 'Calories'): 56.4, ('Frankfurter, Beef ', 'Calories'): 141.8, ('Ham,Sliced,Extralean ', 'Calories'): 37.1, ('Kielbasa,Prk ', 'Calories'): 80.6, (\"Cap'N Crunch \", 'Calories'): 119.6, ('Cheerios ', 'Calories'): 111.0, (\"Corn Flks, Kellogg'S \", 'Calories'): 110.5, (\"Raisin Brn, Kellg'S \", 'Calories'): 115.1, ('Rice Krispies ', 'Calories'): 112.2, ('Special K ', 'Calories'): 110.8, ('Oatmeal ', 'Calories'): 145.1, ('Malt-O-Meal,Choc ', 'Calories'): 607.2, ('Pizza W/Pepperoni ', 'Calories'): 181.0, ('Taco ', 'Calories'): 369.4, ('Hamburger W/Toppings ', 'Calories'): 275.0, ('Hotdog, Plain ', 'Calories'): 242.1, ('Couscous ', 'Calories'): 100.8, ('White Rice ', 'Calories'): 102.7, ('Macaroni,Ckd ', 'Calories'): 98.7, ('Peanut Butter ', 'Calories'): 188.5, ('Pork ', 'Calories'): 710.8, ('Sardines in Oil ', 'Calories'): 49.9, ('White Tuna in Water ', 'Calories'): 115.6, ('Popcorn,Air-Popped ', 'Calories'): 108.3, ('Potato Chips,Bbqflvr ', 'Calories'): 139.2, ('Pretzels ', 'Calories'): 108.0, ('Tortilla Chip ', 'Calories'): 142.0, ('Chicknoodl Soup ', 'Calories'): 150.1, ('Splt Pea&Hamsoup ', 'Calories'): 184.8, ('Vegetbeef Soup ', 'Calories'): 158.1, ('Neweng Clamchwd ', 'Calories'): 175.7, ('Tomato Soup ', 'Calories'): 170.7, ('New E Clamchwd,W/Mlk ', 'Calories'): 163.7, ('Crm Mshrm Soup,W/Mlk ', 'Calories'): 203.4, ('Beanbacn Soup,W/Watr ', 'Calories'): 172.0, ('Frozen Broccoli  ', 'Cholesterol mg'): 0.0, ('Carrots,Raw ', 'Cholesterol mg'): 0.0, ('Celery, Raw ', 'Cholesterol mg'): 0.0, ('Frozen Corn ', 'Cholesterol mg'): 0.0, ('Lettuce,Iceberg,Raw ', 'Cholesterol mg'): 0.0, ('Peppers, Sweet, Raw ', 'Cholesterol mg'): 0.0, ('Potatoes, Baked ', 'Cholesterol mg'): 0.0, ('Tofu ', 'Cholesterol mg'): 0.0, ('Roasted Chicken ', 'Cholesterol mg'): 129.9, ('Spaghetti W/ Sauce ', 'Cholesterol mg'): 0.0, ('Tomato,Red,Ripe,Raw ', 'Cholesterol mg'): 0.0, ('Apple,Raw,W/Skin ', 'Cholesterol mg'): 0.0, ('Banana ', 'Cholesterol mg'): 0.0, ('Grapes ', 'Cholesterol mg'): 0.0, ('Kiwifruit,Raw,Fresh ', 'Cholesterol mg'): 0.0, ('Oranges ', 'Cholesterol mg'): 0.0, ('Bagels ', 'Cholesterol mg'): 0.0, ('Wheat Bread ', 'Cholesterol mg'): 0.0, ('White Bread ', 'Cholesterol mg'): 0.0, ('Oatmeal Cookies ', 'Cholesterol mg'): 0.0, ('Apple Pie ', 'Cholesterol mg'): 0.0, ('Chocolate Chip Cookies ', 'Cholesterol mg'): 5.1, ('Butter,Regular ', 'Cholesterol mg'): 10.9, ('Cheddar Cheese ', 'Cholesterol mg'): 29.4, ('3.3% Fat,Whole Milk ', 'Cholesterol mg'): 33.2, ('2% Lowfat Milk ', 'Cholesterol mg'): 18.3, ('Skim Milk ', 'Cholesterol mg'): 4.4, ('Poached Eggs ', 'Cholesterol mg'): 211.5, ('Scrambled Eggs ', 'Cholesterol mg'): 211.2, ('Bologna,Turkey ', 'Cholesterol mg'): 28.1, ('Frankfurter, Beef ', 'Cholesterol mg'): 27.4, ('Ham,Sliced,Extralean ', 'Cholesterol mg'): 13.3, ('Kielbasa,Prk ', 'Cholesterol mg'): 17.4, (\"Cap'N Crunch \", 'Cholesterol mg'): 0.0, ('Cheerios ', 'Cholesterol mg'): 0.0, (\"Corn Flks, Kellogg'S \", 'Cholesterol mg'): 0.0, (\"Raisin Brn, Kellg'S \", 'Cholesterol mg'): 0.0, ('Rice Krispies ', 'Cholesterol mg'): 0.0, ('Special K ', 'Cholesterol mg'): 0.0, ('Oatmeal ', 'Cholesterol mg'): 0.0, ('Malt-O-Meal,Choc ', 'Cholesterol mg'): 0.0, ('Pizza W/Pepperoni ', 'Cholesterol mg'): 14.2, ('Taco ', 'Cholesterol mg'): 56.4, ('Hamburger W/Toppings ', 'Cholesterol mg'): 42.8, ('Hotdog, Plain ', 'Cholesterol mg'): 44.1, ('Couscous ', 'Cholesterol mg'): 0.0, ('White Rice ', 'Cholesterol mg'): 0.0, ('Macaroni,Ckd ', 'Cholesterol mg'): 0.0, ('Peanut Butter ', 'Cholesterol mg'): 0.0, ('Pork ', 'Cholesterol mg'): 105.1, ('Sardines in Oil ', 'Cholesterol mg'): 34.1, ('White Tuna in Water ', 'Cholesterol mg'): 35.7, ('Popcorn,Air-Popped ', 'Cholesterol mg'): 0.0, ('Potato Chips,Bbqflvr ', 'Cholesterol mg'): 0.0, ('Pretzels ', 'Cholesterol mg'): 0.0, ('Tortilla Chip ', 'Cholesterol mg'): 0.0, ('Chicknoodl Soup ', 'Cholesterol mg'): 12.3, ('Splt Pea&Hamsoup ', 'Cholesterol mg'): 7.2, ('Vegetbeef Soup ', 'Cholesterol mg'): 10.0, ('Neweng Clamchwd ', 'Cholesterol mg'): 10.0, ('Tomato Soup ', 'Cholesterol mg'): 0.0, ('New E Clamchwd,W/Mlk ', 'Cholesterol mg'): 22.3, ('Crm Mshrm Soup,W/Mlk ', 'Cholesterol mg'): 19.8, ('Beanbacn Soup,W/Watr ', 'Cholesterol mg'): 2.5, ('Frozen Broccoli  ', 'Total_Fat g'): 0.8, ('Carrots,Raw ', 'Total_Fat g'): 0.1, ('Celery, Raw ', 'Total_Fat g'): 0.1, ('Frozen Corn ', 'Total_Fat g'): 0.6, ('Lettuce,Iceberg,Raw ', 'Total_Fat g'): 0.0, ('Peppers, Sweet, Raw ', 'Total_Fat g'): 0.1, ('Potatoes, Baked ', 'Total_Fat g'): 0.2, ('Tofu ', 'Total_Fat g'): 5.5, ('Roasted Chicken ', 'Total_Fat g'): 10.8, ('Spaghetti W/ Sauce ', 'Total_Fat g'): 12.3, ('Tomato,Red,Ripe,Raw ', 'Total_Fat g'): 0.4, ('Apple,Raw,W/Skin ', 'Total_Fat g'): 0.5, ('Banana ', 'Total_Fat g'): 0.5, ('Grapes ', 'Total_Fat g'): 0.1, ('Kiwifruit,Raw,Fresh ', 'Total_Fat g'): 0.3, ('Oranges ', 'Total_Fat g'): 0.2, ('Bagels ', 'Total_Fat g'): 0.5, ('Wheat Bread ', 'Total_Fat g'): 1.0, ('White Bread ', 'Total_Fat g'): 1.0, ('Oatmeal Cookies ', 'Total_Fat g'): 3.3, ('Apple Pie ', 'Total_Fat g'): 3.1, ('Chocolate Chip Cookies ', 'Total_Fat g'): 4.5, ('Butter,Regular ', 'Total_Fat g'): 4.1, ('Cheddar Cheese ', 'Total_Fat g'): 9.3, ('3.3% Fat,Whole Milk ', 'Total_Fat g'): 8.1, ('2% Lowfat Milk ', 'Total_Fat g'): 4.7, ('Skim Milk ', 'Total_Fat g'): 0.4, ('Poached Eggs ', 'Total_Fat g'): 5.0, ('Scrambled Eggs ', 'Total_Fat g'): 7.3, ('Bologna,Turkey ', 'Total_Fat g'): 4.3, ('Frankfurter, Beef ', 'Total_Fat g'): 12.8, ('Ham,Sliced,Extralean ', 'Total_Fat g'): 1.4, ('Kielbasa,Prk ', 'Total_Fat g'): 7.1, (\"Cap'N Crunch \", 'Total_Fat g'): 2.6, ('Cheerios ', 'Total_Fat g'): 1.8, (\"Corn Flks, Kellogg'S \", 'Total_Fat g'): 0.1, (\"Raisin Brn, Kellg'S \", 'Total_Fat g'): 0.7, ('Rice Krispies ', 'Total_Fat g'): 0.2, ('Special K ', 'Total_Fat g'): 0.1, ('Oatmeal ', 'Total_Fat g'): 2.3, ('Malt-O-Meal,Choc ', 'Total_Fat g'): 1.5, ('Pizza W/Pepperoni ', 'Total_Fat g'): 7.0, ('Taco ', 'Total_Fat g'): 20.6, ('Hamburger W/Toppings ', 'Total_Fat g'): 10.2, ('Hotdog, Plain ', 'Total_Fat g'): 14.5, ('Couscous ', 'Total_Fat g'): 0.1, ('White Rice ', 'Total_Fat g'): 0.2, ('Macaroni,Ckd ', 'Total_Fat g'): 0.5, ('Peanut Butter ', 'Total_Fat g'): 16.0, ('Pork ', 'Total_Fat g'): 72.2, ('Sardines in Oil ', 'Total_Fat g'): 2.7, ('White Tuna in Water ', 'Total_Fat g'): 2.1, ('Popcorn,Air-Popped ', 'Total_Fat g'): 1.2, ('Potato Chips,Bbqflvr ', 'Total_Fat g'): 9.2, ('Pretzels ', 'Total_Fat g'): 1.0, ('Tortilla Chip ', 'Total_Fat g'): 7.4, ('Chicknoodl Soup ', 'Total_Fat g'): 4.6, ('Splt Pea&Hamsoup ', 'Total_Fat g'): 4.0, ('Vegetbeef Soup ', 'Total_Fat g'): 3.8, ('Neweng Clamchwd ', 'Total_Fat g'): 5.0, ('Tomato Soup ', 'Total_Fat g'): 3.8, ('New E Clamchwd,W/Mlk ', 'Total_Fat g'): 6.6, ('Crm Mshrm Soup,W/Mlk ', 'Total_Fat g'): 13.6, ('Beanbacn Soup,W/Watr ', 'Total_Fat g'): 5.9, ('Frozen Broccoli  ', 'Sodium mg'): 68.2, ('Carrots,Raw ', 'Sodium mg'): 19.2, ('Celery, Raw ', 'Sodium mg'): 34.8, ('Frozen Corn ', 'Sodium mg'): 2.5, ('Lettuce,Iceberg,Raw ', 'Sodium mg'): 1.8, ('Peppers, Sweet, Raw ', 'Sodium mg'): 1.5, ('Potatoes, Baked ', 'Sodium mg'): 15.2, ('Tofu ', 'Sodium mg'): 8.1, ('Roasted Chicken ', 'Sodium mg'): 125.6, ('Spaghetti W/ Sauce ', 'Sodium mg'): 1237.1, ('Tomato,Red,Ripe,Raw ', 'Sodium mg'): 11.1, ('Apple,Raw,W/Skin ', 'Sodium mg'): 0.0, ('Banana ', 'Sodium mg'): 1.1, ('Grapes ', 'Sodium mg'): 0.5, ('Kiwifruit,Raw,Fresh ', 'Sodium mg'): 3.8, ('Oranges ', 'Sodium mg'): 0.0, ('Bagels ', 'Sodium mg'): 151.4, ('Wheat Bread ', 'Sodium mg'): 134.5, ('White Bread ', 'Sodium mg'): 132.5, ('Oatmeal Cookies ', 'Sodium mg'): 68.9, ('Apple Pie ', 'Sodium mg'): 75.4, ('Chocolate Chip Cookies ', 'Sodium mg'): 57.8, ('Butter,Regular ', 'Sodium mg'): 41.3, ('Cheddar Cheese ', 'Sodium mg'): 173.7, ('3.3% Fat,Whole Milk ', 'Sodium mg'): 119.6, ('2% Lowfat Milk ', 'Sodium mg'): 121.8, ('Skim Milk ', 'Sodium mg'): 126.2, ('Poached Eggs ', 'Sodium mg'): 140.0, ('Scrambled Eggs ', 'Sodium mg'): 168.0, ('Bologna,Turkey ', 'Sodium mg'): 248.9, ('Frankfurter, Beef ', 'Sodium mg'): 461.7, ('Ham,Sliced,Extralean ', 'Sodium mg'): 405.1, ('Kielbasa,Prk ', 'Sodium mg'): 279.8, (\"Cap'N Crunch \", 'Sodium mg'): 213.3, ('Cheerios ', 'Sodium mg'): 307.6, (\"Corn Flks, Kellogg'S \", 'Sodium mg'): 290.5, (\"Raisin Brn, Kellg'S \", 'Sodium mg'): 204.4, ('Rice Krispies ', 'Sodium mg'): 340.8, ('Special K ', 'Sodium mg'): 265.5, ('Oatmeal ', 'Sodium mg'): 2.3, ('Malt-O-Meal,Choc ', 'Sodium mg'): 16.5, ('Pizza W/Pepperoni ', 'Sodium mg'): 267.0, ('Taco ', 'Sodium mg'): 802.0, ('Hamburger W/Toppings ', 'Sodium mg'): 563.9, ('Hotdog, Plain ', 'Sodium mg'): 670.3, ('Couscous ', 'Sodium mg'): 4.5, ('White Rice ', 'Sodium mg'): 0.8, ('Macaroni,Ckd ', 'Sodium mg'): 0.7, ('Peanut Butter ', 'Sodium mg'): 155.5, ('Pork ', 'Sodium mg'): 38.4, ('Sardines in Oil ', 'Sodium mg'): 121.2, ('White Tuna in Water ', 'Sodium mg'): 333.2, ('Popcorn,Air-Popped ', 'Sodium mg'): 1.1, ('Potato Chips,Bbqflvr ', 'Sodium mg'): 212.6, ('Pretzels ', 'Sodium mg'): 486.2, ('Tortilla Chip ', 'Sodium mg'): 149.7, ('Chicknoodl Soup ', 'Sodium mg'): 1862.2, ('Splt Pea&Hamsoup ', 'Sodium mg'): 964.8, ('Vegetbeef Soup ', 'Sodium mg'): 1915.1, ('Neweng Clamchwd ', 'Sodium mg'): 1864.9, ('Tomato Soup ', 'Sodium mg'): 1744.4, ('New E Clamchwd,W/Mlk ', 'Sodium mg'): 992.0, ('Crm Mshrm Soup,W/Mlk ', 'Sodium mg'): 1076.3, ('Beanbacn Soup,W/Watr ', 'Sodium mg'): 951.3, ('Frozen Broccoli  ', 'Carbohydrates g'): 13.6, ('Carrots,Raw ', 'Carbohydrates g'): 5.6, ('Celery, Raw ', 'Carbohydrates g'): 1.5, ('Frozen Corn ', 'Carbohydrates g'): 17.1, ('Lettuce,Iceberg,Raw ', 'Carbohydrates g'): 0.4, ('Peppers, Sweet, Raw ', 'Carbohydrates g'): 4.8, ('Potatoes, Baked ', 'Carbohydrates g'): 39.9, ('Tofu ', 'Carbohydrates g'): 2.2, ('Roasted Chicken ', 'Carbohydrates g'): 0.0, ('Spaghetti W/ Sauce ', 'Carbohydrates g'): 58.3, ('Tomato,Red,Ripe,Raw ', 'Carbohydrates g'): 5.7, ('Apple,Raw,W/Skin ', 'Carbohydrates g'): 21.0, ('Banana ', 'Carbohydrates g'): 26.7, ('Grapes ', 'Carbohydrates g'): 4.1, ('Kiwifruit,Raw,Fresh ', 'Carbohydrates g'): 11.3, ('Oranges ', 'Carbohydrates g'): 15.4, ('Bagels ', 'Carbohydrates g'): 15.1, ('Wheat Bread ', 'Carbohydrates g'): 12.4, ('White Bread ', 'Carbohydrates g'): 11.8, ('Oatmeal Cookies ', 'Carbohydrates g'): 12.4, ('Apple Pie ', 'Carbohydrates g'): 9.6, ('Chocolate Chip Cookies ', 'Carbohydrates g'): 9.3, ('Butter,Regular ', 'Carbohydrates g'): 0.0, ('Cheddar Cheese ', 'Carbohydrates g'): 0.4, ('3.3% Fat,Whole Milk ', 'Carbohydrates g'): 11.4, ('2% Lowfat Milk ', 'Carbohydrates g'): 11.7, ('Skim Milk ', 'Carbohydrates g'): 11.9, ('Poached Eggs ', 'Carbohydrates g'): 0.6, ('Scrambled Eggs ', 'Carbohydrates g'): 1.3, ('Bologna,Turkey ', 'Carbohydrates g'): 0.3, ('Frankfurter, Beef ', 'Carbohydrates g'): 0.8, ('Ham,Sliced,Extralean ', 'Carbohydrates g'): 0.3, ('Kielbasa,Prk ', 'Carbohydrates g'): 0.6, (\"Cap'N Crunch \", 'Carbohydrates g'): 23.0, ('Cheerios ', 'Carbohydrates g'): 19.6, (\"Corn Flks, Kellogg'S \", 'Carbohydrates g'): 24.5, (\"Raisin Brn, Kellg'S \", 'Carbohydrates g'): 27.9, ('Rice Krispies ', 'Carbohydrates g'): 24.8, ('Special K ', 'Carbohydrates g'): 21.3, ('Oatmeal ', 'Carbohydrates g'): 25.3, ('Malt-O-Meal,Choc ', 'Carbohydrates g'): 128.2, ('Pizza W/Pepperoni ', 'Carbohydrates g'): 19.9, ('Taco ', 'Carbohydrates g'): 26.7, ('Hamburger W/Toppings ', 'Carbohydrates g'): 32.7, ('Hotdog, Plain ', 'Carbohydrates g'): 18.0, ('Couscous ', 'Carbohydrates g'): 20.9, ('White Rice ', 'Carbohydrates g'): 22.3, ('Macaroni,Ckd ', 'Carbohydrates g'): 19.8, ('Peanut Butter ', 'Carbohydrates g'): 6.9, ('Pork ', 'Carbohydrates g'): 0.0, ('Sardines in Oil ', 'Carbohydrates g'): 0.0, ('White Tuna in Water ', 'Carbohydrates g'): 0.0, ('Popcorn,Air-Popped ', 'Carbohydrates g'): 22.1, ('Potato Chips,Bbqflvr ', 'Carbohydrates g'): 15.0, ('Pretzels ', 'Carbohydrates g'): 22.5, ('Tortilla Chip ', 'Carbohydrates g'): 17.8, ('Chicknoodl Soup ', 'Carbohydrates g'): 18.7, ('Splt Pea&Hamsoup ', 'Carbohydrates g'): 26.8, ('Vegetbeef Soup ', 'Carbohydrates g'): 20.4, ('Neweng Clamchwd ', 'Carbohydrates g'): 21.8, ('Tomato Soup ', 'Carbohydrates g'): 33.2, ('New E Clamchwd,W/Mlk ', 'Carbohydrates g'): 16.6, ('Crm Mshrm Soup,W/Mlk ', 'Carbohydrates g'): 15.0, ('Beanbacn Soup,W/Watr ', 'Carbohydrates g'): 22.8, ('Frozen Broccoli  ', 'Dietary_Fiber g'): 8.5, ('Carrots,Raw ', 'Dietary_Fiber g'): 1.6, ('Celery, Raw ', 'Dietary_Fiber g'): 0.7, ('Frozen Corn ', 'Dietary_Fiber g'): 2.0, ('Lettuce,Iceberg,Raw ', 'Dietary_Fiber g'): 0.3, ('Peppers, Sweet, Raw ', 'Dietary_Fiber g'): 1.3, ('Potatoes, Baked ', 'Dietary_Fiber g'): 3.2, ('Tofu ', 'Dietary_Fiber g'): 1.4, ('Roasted Chicken ', 'Dietary_Fiber g'): 0.0, ('Spaghetti W/ Sauce ', 'Dietary_Fiber g'): 11.6, ('Tomato,Red,Ripe,Raw ', 'Dietary_Fiber g'): 1.4, ('Apple,Raw,W/Skin ', 'Dietary_Fiber g'): 3.7, ('Banana ', 'Dietary_Fiber g'): 2.7, ('Grapes ', 'Dietary_Fiber g'): 0.2, ('Kiwifruit,Raw,Fresh ', 'Dietary_Fiber g'): 2.6, ('Oranges ', 'Dietary_Fiber g'): 3.1, ('Bagels ', 'Dietary_Fiber g'): 0.6, ('Wheat Bread ', 'Dietary_Fiber g'): 1.3, ('White Bread ', 'Dietary_Fiber g'): 1.1, ('Oatmeal Cookies ', 'Dietary_Fiber g'): 0.6, ('Apple Pie ', 'Dietary_Fiber g'): 0.5, ('Chocolate Chip Cookies ', 'Dietary_Fiber g'): 0.0, ('Butter,Regular ', 'Dietary_Fiber g'): 0.0, ('Cheddar Cheese ', 'Dietary_Fiber g'): 0.0, ('3.3% Fat,Whole Milk ', 'Dietary_Fiber g'): 0.0, ('2% Lowfat Milk ', 'Dietary_Fiber g'): 0.0, ('Skim Milk ', 'Dietary_Fiber g'): 0.0, ('Poached Eggs ', 'Dietary_Fiber g'): 0.0, ('Scrambled Eggs ', 'Dietary_Fiber g'): 0.0, ('Bologna,Turkey ', 'Dietary_Fiber g'): 0.0, ('Frankfurter, Beef ', 'Dietary_Fiber g'): 0.0, ('Ham,Sliced,Extralean ', 'Dietary_Fiber g'): 0.0, ('Kielbasa,Prk ', 'Dietary_Fiber g'): 0.0, (\"Cap'N Crunch \", 'Dietary_Fiber g'): 0.5, ('Cheerios ', 'Dietary_Fiber g'): 2.0, (\"Corn Flks, Kellogg'S \", 'Dietary_Fiber g'): 0.7, (\"Raisin Brn, Kellg'S \", 'Dietary_Fiber g'): 4.0, ('Rice Krispies ', 'Dietary_Fiber g'): 0.4, ('Special K ', 'Dietary_Fiber g'): 0.7, ('Oatmeal ', 'Dietary_Fiber g'): 4.0, ('Malt-O-Meal,Choc ', 'Dietary_Fiber g'): 0.0, ('Pizza W/Pepperoni ', 'Dietary_Fiber g'): 0.0, ('Taco ', 'Dietary_Fiber g'): 0.0, ('Hamburger W/Toppings ', 'Dietary_Fiber g'): 0.0, ('Hotdog, Plain ', 'Dietary_Fiber g'): 0.0, ('Couscous ', 'Dietary_Fiber g'): 1.3, ('White Rice ', 'Dietary_Fiber g'): 0.3, ('Macaroni,Ckd ', 'Dietary_Fiber g'): 0.9, ('Peanut Butter ', 'Dietary_Fiber g'): 2.1, ('Pork ', 'Dietary_Fiber g'): 0.0, ('Sardines in Oil ', 'Dietary_Fiber g'): 0.0, ('White Tuna in Water ', 'Dietary_Fiber g'): 0.0, ('Popcorn,Air-Popped ', 'Dietary_Fiber g'): 4.3, ('Potato Chips,Bbqflvr ', 'Dietary_Fiber g'): 1.2, ('Pretzels ', 'Dietary_Fiber g'): 0.9, ('Tortilla Chip ', 'Dietary_Fiber g'): 1.8, ('Chicknoodl Soup ', 'Dietary_Fiber g'): 1.5, ('Splt Pea&Hamsoup ', 'Dietary_Fiber g'): 4.1, ('Vegetbeef Soup ', 'Dietary_Fiber g'): 4.0, ('Neweng Clamchwd ', 'Dietary_Fiber g'): 1.5, ('Tomato Soup ', 'Dietary_Fiber g'): 1.0, ('New E Clamchwd,W/Mlk ', 'Dietary_Fiber g'): 1.5, ('Crm Mshrm Soup,W/Mlk ', 'Dietary_Fiber g'): 0.5, ('Beanbacn Soup,W/Watr ', 'Dietary_Fiber g'): 8.6, ('Frozen Broccoli  ', 'Protein g'): 8.0, ('Carrots,Raw ', 'Protein g'): 0.6, ('Celery, Raw ', 'Protein g'): 0.3, ('Frozen Corn ', 'Protein g'): 2.5, ('Lettuce,Iceberg,Raw ', 'Protein g'): 0.2, ('Peppers, Sweet, Raw ', 'Protein g'): 0.7, ('Potatoes, Baked ', 'Protein g'): 3.7, ('Tofu ', 'Protein g'): 9.4, ('Roasted Chicken ', 'Protein g'): 42.2, ('Spaghetti W/ Sauce ', 'Protein g'): 8.2, ('Tomato,Red,Ripe,Raw ', 'Protein g'): 1.0, ('Apple,Raw,W/Skin ', 'Protein g'): 0.3, ('Banana ', 'Protein g'): 1.2, ('Grapes ', 'Protein g'): 0.2, ('Kiwifruit,Raw,Fresh ', 'Protein g'): 0.8, ('Oranges ', 'Protein g'): 1.2, ('Bagels ', 'Protein g'): 3.0, ('Wheat Bread ', 'Protein g'): 2.2, ('White Bread ', 'Protein g'): 2.3, ('Oatmeal Cookies ', 'Protein g'): 1.1, ('Apple Pie ', 'Protein g'): 0.5, ('Chocolate Chip Cookies ', 'Protein g'): 0.9, ('Butter,Regular ', 'Protein g'): 0.0, ('Cheddar Cheese ', 'Protein g'): 7.0, ('3.3% Fat,Whole Milk ', 'Protein g'): 8.0, ('2% Lowfat Milk ', 'Protein g'): 8.1, ('Skim Milk ', 'Protein g'): 8.4, ('Poached Eggs ', 'Protein g'): 6.2, ('Scrambled Eggs ', 'Protein g'): 6.7, ('Bologna,Turkey ', 'Protein g'): 3.9, ('Frankfurter, Beef ', 'Protein g'): 5.4, ('Ham,Sliced,Extralean ', 'Protein g'): 5.5, ('Kielbasa,Prk ', 'Protein g'): 3.4, (\"Cap'N Crunch \", 'Protein g'): 1.4, ('Cheerios ', 'Protein g'): 4.3, (\"Corn Flks, Kellogg'S \", 'Protein g'): 2.3, (\"Raisin Brn, Kellg'S \", 'Protein g'): 4.0, ('Rice Krispies ', 'Protein g'): 1.9, ('Special K ', 'Protein g'): 5.6, ('Oatmeal ', 'Protein g'): 6.1, ('Malt-O-Meal,Choc ', 'Protein g'): 17.3, ('Pizza W/Pepperoni ', 'Protein g'): 10.1, ('Taco ', 'Protein g'): 20.7, ('Hamburger W/Toppings ', 'Protein g'): 13.6, ('Hotdog, Plain ', 'Protein g'): 10.4, ('Couscous ', 'Protein g'): 3.4, ('White Rice ', 'Protein g'): 2.1, ('Macaroni,Ckd ', 'Protein g'): 3.3, ('Peanut Butter ', 'Protein g'): 7.7, ('Pork ', 'Protein g'): 13.8, ('Sardines in Oil ', 'Protein g'): 5.9, ('White Tuna in Water ', 'Protein g'): 22.7, ('Popcorn,Air-Popped ', 'Protein g'): 3.4, ('Potato Chips,Bbqflvr ', 'Protein g'): 2.2, ('Pretzels ', 'Protein g'): 2.6, ('Tortilla Chip ', 'Protein g'): 2.0, ('Chicknoodl Soup ', 'Protein g'): 7.9, ('Splt Pea&Hamsoup ', 'Protein g'): 11.1, ('Vegetbeef Soup ', 'Protein g'): 11.2, ('Neweng Clamchwd ', 'Protein g'): 10.9, ('Tomato Soup ', 'Protein g'): 4.1, ('New E Clamchwd,W/Mlk ', 'Protein g'): 9.5, ('Crm Mshrm Soup,W/Mlk ', 'Protein g'): 6.1, ('Beanbacn Soup,W/Watr ', 'Protein g'): 7.9, ('Frozen Broccoli  ', 'Vit_A IU'): 5867.4, ('Carrots,Raw ', 'Vit_A IU'): 15471.0, ('Celery, Raw ', 'Vit_A IU'): 53.6, ('Frozen Corn ', 'Vit_A IU'): 106.6, ('Lettuce,Iceberg,Raw ', 'Vit_A IU'): 66.0, ('Peppers, Sweet, Raw ', 'Vit_A IU'): 467.7, ('Potatoes, Baked ', 'Vit_A IU'): 0.0, ('Tofu ', 'Vit_A IU'): 98.6, ('Roasted Chicken ', 'Vit_A IU'): 77.4, ('Spaghetti W/ Sauce ', 'Vit_A IU'): 3055.2, ('Tomato,Red,Ripe,Raw ', 'Vit_A IU'): 766.3, ('Apple,Raw,W/Skin ', 'Vit_A IU'): 73.1, ('Banana ', 'Vit_A IU'): 92.3, ('Grapes ', 'Vit_A IU'): 24.0, ('Kiwifruit,Raw,Fresh ', 'Vit_A IU'): 133.0, ('Oranges ', 'Vit_A IU'): 268.6, ('Bagels ', 'Vit_A IU'): 0.0, ('Wheat Bread ', 'Vit_A IU'): 0.0, ('White Bread ', 'Vit_A IU'): 0.0, ('Oatmeal Cookies ', 'Vit_A IU'): 2.9, ('Apple Pie ', 'Vit_A IU'): 35.2, ('Chocolate Chip Cookies ', 'Vit_A IU'): 101.8, ('Butter,Regular ', 'Vit_A IU'): 152.9, ('Cheddar Cheese ', 'Vit_A IU'): 296.5, ('3.3% Fat,Whole Milk ', 'Vit_A IU'): 307.4, ('2% Lowfat Milk ', 'Vit_A IU'): 500.2, ('Skim Milk ', 'Vit_A IU'): 499.8, ('Poached Eggs ', 'Vit_A IU'): 316.0, ('Scrambled Eggs ', 'Vit_A IU'): 409.2, ('Bologna,Turkey ', 'Vit_A IU'): 0.0, ('Frankfurter, Beef ', 'Vit_A IU'): 0.0, ('Ham,Sliced,Extralean ', 'Vit_A IU'): 0.0, ('Kielbasa,Prk ', 'Vit_A IU'): 0.0, (\"Cap'N Crunch \", 'Vit_A IU'): 40.6, ('Cheerios ', 'Vit_A IU'): 1252.2, (\"Corn Flks, Kellogg'S \", 'Vit_A IU'): 1252.2, (\"Raisin Brn, Kellg'S \", 'Vit_A IU'): 1250.2, ('Rice Krispies ', 'Vit_A IU'): 1252.2, ('Special K ', 'Vit_A IU'): 1252.2, ('Oatmeal ', 'Vit_A IU'): 37.4, ('Malt-O-Meal,Choc ', 'Vit_A IU'): 0.0, ('Pizza W/Pepperoni ', 'Vit_A IU'): 281.9, ('Taco ', 'Vit_A IU'): 855.0, ('Hamburger W/Toppings ', 'Vit_A IU'): 126.3, ('Hotdog, Plain ', 'Vit_A IU'): 0.0, ('Couscous ', 'Vit_A IU'): 0.0, ('White Rice ', 'Vit_A IU'): 0.0, ('Macaroni,Ckd ', 'Vit_A IU'): 0.0, ('Peanut Butter ', 'Vit_A IU'): 0.0, ('Pork ', 'Vit_A IU'): 14.7, ('Sardines in Oil ', 'Vit_A IU'): 53.8, ('White Tuna in Water ', 'Vit_A IU'): 68.0, ('Popcorn,Air-Popped ', 'Vit_A IU'): 55.6, ('Potato Chips,Bbqflvr ', 'Vit_A IU'): 61.5, ('Pretzels ', 'Vit_A IU'): 0.0, ('Tortilla Chip ', 'Vit_A IU'): 55.6, ('Chicknoodl Soup ', 'Vit_A IU'): 1308.7, ('Splt Pea&Hamsoup ', 'Vit_A IU'): 4872.0, ('Vegetbeef Soup ', 'Vit_A IU'): 3785.1, ('Neweng Clamchwd ', 'Vit_A IU'): 20.1, ('Tomato Soup ', 'Vit_A IU'): 1393.0, ('New E Clamchwd,W/Mlk ', 'Vit_A IU'): 163.7, ('Crm Mshrm Soup,W/Mlk ', 'Vit_A IU'): 153.8, ('Beanbacn Soup,W/Watr ', 'Vit_A IU'): 888.0, ('Frozen Broccoli  ', 'Vit_C IU'): 160.2, ('Carrots,Raw ', 'Vit_C IU'): 5.1, ('Celery, Raw ', 'Vit_C IU'): 2.8, ('Frozen Corn ', 'Vit_C IU'): 5.2, ('Lettuce,Iceberg,Raw ', 'Vit_C IU'): 0.8, ('Peppers, Sweet, Raw ', 'Vit_C IU'): 66.1, ('Potatoes, Baked ', 'Vit_C IU'): 15.6, ('Tofu ', 'Vit_C IU'): 0.1, ('Roasted Chicken ', 'Vit_C IU'): 0.0, ('Spaghetti W/ Sauce ', 'Vit_C IU'): 27.9, ('Tomato,Red,Ripe,Raw ', 'Vit_C IU'): 23.5, ('Apple,Raw,W/Skin ', 'Vit_C IU'): 7.9, ('Banana ', 'Vit_C IU'): 10.4, ('Grapes ', 'Vit_C IU'): 1.0, ('Kiwifruit,Raw,Fresh ', 'Vit_C IU'): 74.5, ('Oranges ', 'Vit_C IU'): 69.7, ('Bagels ', 'Vit_C IU'): 0.0, ('Wheat Bread ', 'Vit_C IU'): 0.0, ('White Bread ', 'Vit_C IU'): 0.0, ('Oatmeal Cookies ', 'Vit_C IU'): 0.1, ('Apple Pie ', 'Vit_C IU'): 0.9, ('Chocolate Chip Cookies ', 'Vit_C IU'): 0.0, ('Butter,Regular ', 'Vit_C IU'): 0.0, ('Cheddar Cheese ', 'Vit_C IU'): 0.0, ('3.3% Fat,Whole Milk ', 'Vit_C IU'): 2.3, ('2% Lowfat Milk ', 'Vit_C IU'): 2.3, ('Skim Milk ', 'Vit_C IU'): 2.4, ('Poached Eggs ', 'Vit_C IU'): 0.0, ('Scrambled Eggs ', 'Vit_C IU'): 0.1, ('Bologna,Turkey ', 'Vit_C IU'): 0.0, ('Frankfurter, Beef ', 'Vit_C IU'): 10.8, ('Ham,Sliced,Extralean ', 'Vit_C IU'): 7.4, ('Kielbasa,Prk ', 'Vit_C IU'): 5.5, (\"Cap'N Crunch \", 'Vit_C IU'): 0.0, ('Cheerios ', 'Vit_C IU'): 15.1, (\"Corn Flks, Kellogg'S \", 'Vit_C IU'): 15.1, (\"Raisin Brn, Kellg'S \", 'Vit_C IU'): 0.0, ('Rice Krispies ', 'Vit_C IU'): 15.1, ('Special K ', 'Vit_C IU'): 15.1, ('Oatmeal ', 'Vit_C IU'): 0.0, ('Malt-O-Meal,Choc ', 'Vit_C IU'): 0.0, ('Pizza W/Pepperoni ', 'Vit_C IU'): 1.6, ('Taco ', 'Vit_C IU'): 2.2, ('Hamburger W/Toppings ', 'Vit_C IU'): 2.6, ('Hotdog, Plain ', 'Vit_C IU'): 0.1, ('Couscous ', 'Vit_C IU'): 0.0, ('White Rice ', 'Vit_C IU'): 0.0, ('Macaroni,Ckd ', 'Vit_C IU'): 0.0, ('Peanut Butter ', 'Vit_C IU'): 0.0, ('Pork ', 'Vit_C IU'): 0.0, ('Sardines in Oil ', 'Vit_C IU'): 0.0, ('White Tuna in Water ', 'Vit_C IU'): 0.0, ('Popcorn,Air-Popped ', 'Vit_C IU'): 0.0, ('Potato Chips,Bbqflvr ', 'Vit_C IU'): 9.6, ('Pretzels ', 'Vit_C IU'): 0.0, ('Tortilla Chip ', 'Vit_C IU'): 0.0, ('Chicknoodl Soup ', 'Vit_C IU'): 0.0, ('Splt Pea&Hamsoup ', 'Vit_C IU'): 7.0, ('Vegetbeef Soup ', 'Vit_C IU'): 4.8, ('Neweng Clamchwd ', 'Vit_C IU'): 4.8, ('Tomato Soup ', 'Vit_C IU'): 133.0, ('New E Clamchwd,W/Mlk ', 'Vit_C IU'): 3.5, ('Crm Mshrm Soup,W/Mlk ', 'Vit_C IU'): 2.2, ('Beanbacn Soup,W/Watr ', 'Vit_C IU'): 1.5, ('Frozen Broccoli  ', 'Calcium mg'): 159.0, ('Carrots,Raw ', 'Calcium mg'): 14.9, ('Celery, Raw ', 'Calcium mg'): 16.0, ('Frozen Corn ', 'Calcium mg'): 3.3, ('Lettuce,Iceberg,Raw ', 'Calcium mg'): 3.8, ('Peppers, Sweet, Raw ', 'Calcium mg'): 6.7, ('Potatoes, Baked ', 'Calcium mg'): 22.7, ('Tofu ', 'Calcium mg'): 121.8, ('Roasted Chicken ', 'Calcium mg'): 21.9, ('Spaghetti W/ Sauce ', 'Calcium mg'): 80.2, ('Tomato,Red,Ripe,Raw ', 'Calcium mg'): 6.2, ('Apple,Raw,W/Skin ', 'Calcium mg'): 9.7, ('Banana ', 'Calcium mg'): 6.8, ('Grapes ', 'Calcium mg'): 3.4, ('Kiwifruit,Raw,Fresh ', 'Calcium mg'): 19.8, ('Oranges ', 'Calcium mg'): 52.4, ('Bagels ', 'Calcium mg'): 21.0, ('Wheat Bread ', 'Calcium mg'): 10.8, ('White Bread ', 'Calcium mg'): 26.2, ('Oatmeal Cookies ', 'Calcium mg'): 6.7, ('Apple Pie ', 'Calcium mg'): 3.1, ('Chocolate Chip Cookies ', 'Calcium mg'): 6.2, ('Butter,Regular ', 'Calcium mg'): 1.2, ('Cheddar Cheese ', 'Calcium mg'): 202.0, ('3.3% Fat,Whole Milk ', 'Calcium mg'): 291.3, ('2% Lowfat Milk ', 'Calcium mg'): 296.7, ('Skim Milk ', 'Calcium mg'): 302.3, ('Poached Eggs ', 'Calcium mg'): 24.5, ('Scrambled Eggs ', 'Calcium mg'): 42.6, ('Bologna,Turkey ', 'Calcium mg'): 23.8, ('Frankfurter, Beef ', 'Calcium mg'): 9.0, ('Ham,Sliced,Extralean ', 'Calcium mg'): 2.0, ('Kielbasa,Prk ', 'Calcium mg'): 11.4, (\"Cap'N Crunch \", 'Calcium mg'): 4.8, ('Cheerios ', 'Calcium mg'): 48.6, (\"Corn Flks, Kellogg'S \", 'Calcium mg'): 0.9, (\"Raisin Brn, Kellg'S \", 'Calcium mg'): 12.9, ('Rice Krispies ', 'Calcium mg'): 4.0, ('Special K ', 'Calcium mg'): 8.2, ('Oatmeal ', 'Calcium mg'): 18.7, ('Malt-O-Meal,Choc ', 'Calcium mg'): 23.1, ('Pizza W/Pepperoni ', 'Calcium mg'): 64.6, ('Taco ', 'Calcium mg'): 220.6, ('Hamburger W/Toppings ', 'Calcium mg'): 51.4, ('Hotdog, Plain ', 'Calcium mg'): 23.5, ('Couscous ', 'Calcium mg'): 7.2, ('White Rice ', 'Calcium mg'): 7.9, ('Macaroni,Ckd ', 'Calcium mg'): 4.9, ('Peanut Butter ', 'Calcium mg'): 13.1, ('Pork ', 'Calcium mg'): 59.9, ('Sardines in Oil ', 'Calcium mg'): 91.7, ('White Tuna in Water ', 'Calcium mg'): 3.4, ('Popcorn,Air-Popped ', 'Calcium mg'): 2.8, ('Potato Chips,Bbqflvr ', 'Calcium mg'): 14.2, ('Pretzels ', 'Calcium mg'): 10.2, ('Tortilla Chip ', 'Calcium mg'): 43.7, ('Chicknoodl Soup ', 'Calcium mg'): 27.1, ('Splt Pea&Hamsoup ', 'Calcium mg'): 33.6, ('Vegetbeef Soup ', 'Calcium mg'): 32.6, ('Neweng Clamchwd ', 'Calcium mg'): 82.8, ('Tomato Soup ', 'Calcium mg'): 27.6, ('New E Clamchwd,W/Mlk ', 'Calcium mg'): 186.0, ('Crm Mshrm Soup,W/Mlk ', 'Calcium mg'): 178.6, ('Beanbacn Soup,W/Watr ', 'Calcium mg'): 81.0, ('Frozen Broccoli  ', 'Iron mg'): 2.3, ('Carrots,Raw ', 'Iron mg'): 0.3, ('Celery, Raw ', 'Iron mg'): 0.2, ('Frozen Corn ', 'Iron mg'): 0.3, ('Lettuce,Iceberg,Raw ', 'Iron mg'): 0.1, ('Peppers, Sweet, Raw ', 'Iron mg'): 0.3, ('Potatoes, Baked ', 'Iron mg'): 4.3, ('Tofu ', 'Iron mg'): 6.2, ('Roasted Chicken ', 'Iron mg'): 1.8, ('Spaghetti W/ Sauce ', 'Iron mg'): 2.3, ('Tomato,Red,Ripe,Raw ', 'Iron mg'): 0.6, ('Apple,Raw,W/Skin ', 'Iron mg'): 0.2, ('Banana ', 'Iron mg'): 0.4, ('Grapes ', 'Iron mg'): 0.1, ('Kiwifruit,Raw,Fresh ', 'Iron mg'): 0.3, ('Oranges ', 'Iron mg'): 0.1, ('Bagels ', 'Iron mg'): 1.0, ('Wheat Bread ', 'Iron mg'): 0.7, ('White Bread ', 'Iron mg'): 0.8, ('Oatmeal Cookies ', 'Iron mg'): 0.5, ('Apple Pie ', 'Iron mg'): 0.1, ('Chocolate Chip Cookies ', 'Iron mg'): 0.4, ('Butter,Regular ', 'Iron mg'): 0.0, ('Cheddar Cheese ', 'Iron mg'): 0.2, ('3.3% Fat,Whole Milk ', 'Iron mg'): 0.1, ('2% Lowfat Milk ', 'Iron mg'): 0.1, ('Skim Milk ', 'Iron mg'): 0.1, ('Poached Eggs ', 'Iron mg'): 0.7, ('Scrambled Eggs ', 'Iron mg'): 0.7, ('Bologna,Turkey ', 'Iron mg'): 0.4, ('Frankfurter, Beef ', 'Iron mg'): 0.6, ('Ham,Sliced,Extralean ', 'Iron mg'): 0.2, ('Kielbasa,Prk ', 'Iron mg'): 0.4, (\"Cap'N Crunch \", 'Iron mg'): 7.5, ('Cheerios ', 'Iron mg'): 4.5, (\"Corn Flks, Kellogg'S \", 'Iron mg'): 1.8, (\"Raisin Brn, Kellg'S \", 'Iron mg'): 16.8, ('Rice Krispies ', 'Iron mg'): 1.8, ('Special K ', 'Iron mg'): 4.5, ('Oatmeal ', 'Iron mg'): 1.6, ('Malt-O-Meal,Choc ', 'Iron mg'): 47.2, ('Pizza W/Pepperoni ', 'Iron mg'): 0.9, ('Taco ', 'Iron mg'): 2.4, ('Hamburger W/Toppings ', 'Iron mg'): 2.5, ('Hotdog, Plain ', 'Iron mg'): 2.3, ('Couscous ', 'Iron mg'): 0.3, ('White Rice ', 'Iron mg'): 0.9, ('Macaroni,Ckd ', 'Iron mg'): 1.0, ('Peanut Butter ', 'Iron mg'): 0.6, ('Pork ', 'Iron mg'): 0.4, ('Sardines in Oil ', 'Iron mg'): 0.7, ('White Tuna in Water ', 'Iron mg'): 0.5, ('Popcorn,Air-Popped ', 'Iron mg'): 0.8, ('Potato Chips,Bbqflvr ', 'Iron mg'): 0.5, ('Pretzels ', 'Iron mg'): 1.2, ('Tortilla Chip ', 'Iron mg'): 0.4, ('Chicknoodl Soup ', 'Iron mg'): 1.5, ('Splt Pea&Hamsoup ', 'Iron mg'): 2.1, ('Vegetbeef Soup ', 'Iron mg'): 2.2, ('Neweng Clamchwd ', 'Iron mg'): 2.8, ('Tomato Soup ', 'Iron mg'): 3.5, ('New E Clamchwd,W/Mlk ', 'Iron mg'): 1.5, ('Crm Mshrm Soup,W/Mlk ', 'Iron mg'): 0.6, ('Beanbacn Soup,W/Watr ', 'Iron mg'): 2.0}\n",
    "\n",
    "# This data set also contains the requirement amount and 'type' for each nutrient (<= or >=):\n",
    "Requirement = {'Calories': 2000.0, 'Cholesterol mg': 300.0, 'Total_Fat g': 65.0, 'Sodium mg': 2400.0, 'Carbohydrates g': 300.0, 'Dietary_Fiber g': 25.0, 'Protein g': 50.0, 'Vit_A IU': 5000.0, 'Vit_C IU': 60.0, 'Calcium mg': 1000.0, 'Iron mg': 18.0}\n",
    "Type = {'Calories': '>=', 'Cholesterol mg': '<=', 'Total_Fat g': '<=', 'Sodium mg': '<=', 'Carbohydrates g': '<=', 'Dietary_Fiber g': '>=', 'Protein g': '>=', 'Vit_A IU': '>=', 'Vit_C IU': '>=', 'Calcium mg': '>=', 'Iron mg': '>='}"
   ]
  },
  {
   "cell_type": "code",
   "execution_count": 2,
   "metadata": {},
   "outputs": [],
   "source": [
    "import pulp"
   ]
  },
  {
   "cell_type": "code",
   "execution_count": 3,
   "metadata": {},
   "outputs": [],
   "source": [
    "## Create model as minimization problem\n",
    "mdl = pulp.LpProblem(\"DietProblem\", pulp.LpMinimize)"
   ]
  },
  {
   "cell_type": "code",
   "execution_count": 4,
   "metadata": {},
   "outputs": [],
   "source": [
    "## Create the foods amount variable\n",
    "amount = pulp.LpVariable.dicts(\"Amount\", (f for f in Foods), lowBound = 0)"
   ]
  },
  {
   "cell_type": "code",
   "execution_count": 5,
   "metadata": {},
   "outputs": [],
   "source": [
    "## Minimize the total cost of food\n",
    "mdl += pulp.lpSum([amount[f] * Cost[f] for f in Foods])"
   ]
  },
  {
   "cell_type": "code",
   "execution_count": 6,
   "metadata": {},
   "outputs": [],
   "source": [
    "# define constraints (depends on the type)\n",
    "\n",
    "# create a dictionary of nutrition constraints\n",
    "# NutritionConstraints = {}\n",
    "for n in Nutrients:\n",
    "    if Type[n] == '>=':\n",
    "        mdl += (pulp.lpSum([amount[f]*Nutrition[f,n] for f in Foods]) >= Requirement[n])\n",
    "    elif Type[n] == '<=':\n",
    "        mdl += (pulp.lpSum([amount[f]*Nutrition[f,n] for f in Foods]) <= Requirement[n])\n",
    "    else:\n",
    "        print(\"error: nutrient \" + n + \" has no type!\")"
   ]
  },
  {
   "cell_type": "code",
   "execution_count": 7,
   "metadata": {},
   "outputs": [
    {
     "data": {
      "text/plain": [
       "1"
      ]
     },
     "execution_count": 7,
     "metadata": {},
     "output_type": "execute_result"
    }
   ],
   "source": [
    "mdl.solve()"
   ]
  },
  {
   "cell_type": "markdown",
   "metadata": {},
   "source": [
    "## Solution report"
   ]
  },
  {
   "cell_type": "code",
   "execution_count": 8,
   "metadata": {},
   "outputs": [
    {
     "name": "stdout",
     "output_type": "stream",
     "text": [
      "Solve status: Optimal\n"
     ]
    }
   ],
   "source": [
    "print(\"Solve status: {:s}\".format(pulp.LpStatus[mdl.status]))"
   ]
  },
  {
   "cell_type": "code",
   "execution_count": 9,
   "metadata": {},
   "outputs": [
    {
     "name": "stdout",
     "output_type": "stream",
     "text": [
      "Min cost: 1.00\n"
     ]
    }
   ],
   "source": [
    "obj = pulp.value(mdl.objective)\n",
    "print(\"Min cost: {:.2f}\".format(obj))"
   ]
  },
  {
   "cell_type": "code",
   "execution_count": 11,
   "metadata": {},
   "outputs": [
    {
     "name": "stdout",
     "output_type": "stream",
     "text": [
      "Calories: 2000.00 >= 2000.00\n",
      "Cholesterol mg: 11.77 <= 300.00\n",
      "Total_Fat g: 64.62 <= 65.00\n",
      "Sodium mg: 1039.33 <= 2400.00\n",
      "Carbohydrates g: 300.00 <= 300.00\n",
      "Dietary_Fiber g: 27.80 >= 25.00\n",
      "Protein g: 74.86 >= 50.00\n",
      "Vit_A IU: 5000.00 >= 5000.00\n",
      "Vit_C IU: 101.45 >= 60.00\n",
      "Calcium mg: 1000.00 >= 1000.00\n",
      "Iron mg: 28.54 >= 18.00\n"
     ]
    }
   ],
   "source": [
    "## Print nutrition requirement information\n",
    "for n in Nutrients:\n",
    "    n_amount = sum([pulp.value(amount[f])*pulp.value(Nutrition[f,n]) for f in Foods])\n",
    "    print(\"{:s}: {:.2f} {:s} {:.2f}\".format(n, n_amount, Type[n], Requirement[n]))"
   ]
  },
  {
   "cell_type": "code",
   "execution_count": 12,
   "metadata": {},
   "outputs": [
    {
     "name": "stdout",
     "output_type": "stream",
     "text": [
      "Carrots,Raw : 0.24\n",
      "Potatoes, Baked : 6.01\n",
      "Skim Milk : 2.68\n",
      "Peanut Butter : 3.90\n"
     ]
    }
   ],
   "source": [
    "## Print amount solution\n",
    "for f in Foods:\n",
    "    amt = pulp.value(amount[f])\n",
    "    if (amt > 0):\n",
    "        print(\"{:s}: {:.2f}\".format(f,  pulp.value(amount[f])))"
   ]
  },
  {
   "cell_type": "code",
   "execution_count": null,
   "metadata": {},
   "outputs": [],
   "source": []
  }
 ],
 "metadata": {
  "kernelspec": {
   "display_name": "Python 3.7.9 64-bit ('msba': conda)",
   "language": "python",
   "name": "python37964bitmsbaconda92850c2aea1f40d29cc0977a921bc192"
  },
  "language_info": {
   "codemirror_mode": {
    "name": "ipython",
    "version": 3
   },
   "file_extension": ".py",
   "mimetype": "text/x-python",
   "name": "python",
   "nbconvert_exporter": "python",
   "pygments_lexer": "ipython3",
   "version": "3.7.9"
  }
 },
 "nbformat": 4,
 "nbformat_minor": 5
}
