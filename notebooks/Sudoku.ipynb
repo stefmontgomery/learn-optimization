{
 "cells": [
  {
   "cell_type": "markdown",
   "metadata": {},
   "source": [
    "# Sudoku solver\n",
    "\n",
    "Solve a 9x9 sudoku grid using linear programming."
   ]
  },
  {
   "cell_type": "code",
   "execution_count": 91,
   "metadata": {},
   "outputs": [],
   "source": [
    "from pulp import *\n",
    "import itertools\n",
    "import numpy as np\n",
    "import csv"
   ]
  },
  {
   "cell_type": "markdown",
   "metadata": {},
   "source": [
    "Set up problem details for a 9x9 grid."
   ]
  },
  {
   "cell_type": "code",
   "execution_count": 36,
   "metadata": {},
   "outputs": [],
   "source": [
    "n_range = list(range(1,10))\n",
    "grid = list(itertools.product(n_range, n_range))"
   ]
  },
  {
   "cell_type": "code",
   "execution_count": 151,
   "metadata": {},
   "outputs": [],
   "source": [
    "## Assign each square to a \"sub-block\" of squares\n",
    "blocks = list(np.ceil(np.array(axis)/3.0).astype(int))\n",
    "unique_blocks = set(blocks)\n",
    "block_mapping = {b:[] for b in unique_blocks}\n",
    "for i in axis:\n",
    "    b = np.ceil(i/3.0)\n",
    "    block_mapping[b].append(i)"
   ]
  },
  {
   "cell_type": "markdown",
   "metadata": {},
   "source": [
    "Read the input problem."
   ]
  },
  {
   "cell_type": "code",
   "execution_count": 113,
   "metadata": {},
   "outputs": [],
   "source": [
    "file = open(\"../data/sudoku1.csv\")\n",
    "csvreader = csv.reader(file)\n",
    "rows = []\n",
    "for row in csvreader:\n",
    "        rows.append(row)\n",
    "file.close()\n",
    "rows = rows[1:len(rows)]"
   ]
  },
  {
   "cell_type": "code",
   "execution_count": 169,
   "metadata": {},
   "outputs": [],
   "source": [
    "input_dict = {}\n",
    "input_arr = []\n",
    "for x in n_range:\n",
    "    temp_arr = []\n",
    "    for y in n_range:\n",
    "        if rows[x-1][y-1] != \"\":\n",
    "            input_dict[(x,y)] = int(rows[x-1][y-1])\n",
    "            temp_arr.append(int(rows[x-1][y-1]))\n",
    "        else:\n",
    "            temp_arr.append(0)\n",
    "    input_arr.append(temp_arr)"
   ]
  },
  {
   "cell_type": "markdown",
   "metadata": {},
   "source": [
    "Define the problem using PuLP."
   ]
  },
  {
   "cell_type": "code",
   "execution_count": 152,
   "metadata": {},
   "outputs": [],
   "source": [
    "# Create the 'prob' variable to contain the problem data\n",
    "mdl = LpProblem(\"Sudoku\",LpMinimize)"
   ]
  },
  {
   "cell_type": "code",
   "execution_count": 153,
   "metadata": {},
   "outputs": [],
   "source": [
    "## Create the assignment variable - 9 x 9 x 9 (3d) matrix where x and y represent position and n represents\n",
    "## the number chosen (1 means chosen, 0 means not)\n",
    "choice = pulp.LpVariable.dicts(\"Choices\", ((x, y, n) for (x in n_range for y in n_range for n in n_range)),\n",
    "                              lowBound = 0,\n",
    "                              upBound = 1)"
   ]
  },
  {
   "cell_type": "code",
   "execution_count": 154,
   "metadata": {},
   "outputs": [],
   "source": [
    "## Dummy constraint (if the problem is solvable, there is exactly one feasible solution)\n",
    "mdl += pulp.lpSum([choice[x, y, n] for (x in n_range for y in n_range for n in n_range)])"
   ]
  },
  {
   "cell_type": "code",
   "execution_count": 155,
   "metadata": {},
   "outputs": [],
   "source": [
    "## Each number must exist only once in each row\n",
    "for x in n_range:\n",
    "    for n in n_range:\n",
    "        cname = \"Row {:d}, n {:d}\".format(x, n)\n",
    "        mdl += (\n",
    "            pulp.lpSum([select[x, y, n] for y in n_range]) == 1,\n",
    "            cname,\n",
    "        )"
   ]
  },
  {
   "cell_type": "code",
   "execution_count": 156,
   "metadata": {},
   "outputs": [],
   "source": [
    "## Each number must exist only once in each column\n",
    "for y in n_range:\n",
    "    for n in n_range:\n",
    "        cname = \"Col {:d}, n {:d}\".format(y, n)\n",
    "        mdl += (\n",
    "            pulp.lpSum([select[x, y, n] for x in n_range]) == 1,\n",
    "            cname,\n",
    "        )"
   ]
  },
  {
   "cell_type": "code",
   "execution_count": 157,
   "metadata": {},
   "outputs": [],
   "source": [
    "## Each number must exist only once in each sub-grid\n",
    "for b_x in block_mapping.keys():\n",
    "    for b_y in block_mapping.keys():\n",
    "        for n in n_range:\n",
    "            cname = \"Block {:d}_{:d}, n {:d}\".format(b_x, b_y, n)\n",
    "            mdl += (\n",
    "                pulp.lpSum([select[x, y, n] for x in block_mapping[b_x] for y in block_mapping[b_y]]) == 1,\n",
    "                cname,\n",
    "            )"
   ]
  },
  {
   "cell_type": "code",
   "execution_count": 158,
   "metadata": {},
   "outputs": [],
   "source": [
    "## Inputs must be set as given\n",
    "for x, y in input_dict.keys():\n",
    "    n = input_dict[(x, y)]\n",
    "    cname = \"Input {:d}_{:d}, n {:d}\".format(x, y, n)\n",
    "    mdl += (select[x, y, n] == 1,  cname)"
   ]
  },
  {
   "cell_type": "code",
   "execution_count": 159,
   "metadata": {},
   "outputs": [],
   "source": [
    "## Each square can only be assigned once\n",
    "for x in n_range:\n",
    "    for y in n_range:\n",
    "        cname = \"Square {:d}_{:d}\".format(x, y)\n",
    "        mdl += (\n",
    "            pulp.lpSum([select[x, y, n] for n in n_range]) == 1,\n",
    "            cname,\n",
    "        )"
   ]
  },
  {
   "cell_type": "markdown",
   "metadata": {},
   "source": [
    "Solve the problem."
   ]
  },
  {
   "cell_type": "code",
   "execution_count": 160,
   "metadata": {},
   "outputs": [
    {
     "data": {
      "text/plain": [
       "1"
      ]
     },
     "execution_count": 160,
     "metadata": {},
     "output_type": "execute_result"
    }
   ],
   "source": [
    "mdl.solve()"
   ]
  },
  {
   "cell_type": "code",
   "execution_count": 161,
   "metadata": {},
   "outputs": [
    {
     "name": "stdout",
     "output_type": "stream",
     "text": [
      "Status: Optimal\n"
     ]
    }
   ],
   "source": [
    "print(\"Status:\", LpStatus[mdl.status])"
   ]
  },
  {
   "cell_type": "markdown",
   "metadata": {},
   "source": [
    "Extract results and examine solution."
   ]
  },
  {
   "cell_type": "code",
   "execution_count": 162,
   "metadata": {},
   "outputs": [],
   "source": [
    "# Each of the variables is printed with it's resolved optimum value\n",
    "solution_dict = {}\n",
    "solution_arr = []\n",
    "for x in n_range:\n",
    "    temp_arr = []\n",
    "    for y in n_range:\n",
    "        for n in n_range:\n",
    "            v = pulp.value(select[x, y, n])\n",
    "            if v == 1:\n",
    "                solution_dict[(x, y)] = n\n",
    "                temp_arr.append(n)\n",
    "    solution_arr.append(temp_arr)"
   ]
  },
  {
   "cell_type": "code",
   "execution_count": 173,
   "metadata": {},
   "outputs": [
    {
     "name": "stdout",
     "output_type": "stream",
     "text": [
      "INPUT\n",
      "[[3 0 6 5 0 8 4 0 0]\n",
      " [5 2 0 0 0 0 0 0 0]\n",
      " [0 8 7 0 0 0 0 3 1]\n",
      " [0 0 3 0 1 0 0 8 0]\n",
      " [9 0 0 8 6 3 0 0 5]\n",
      " [0 5 0 0 9 0 6 0 0]\n",
      " [1 3 0 0 0 0 2 5 0]\n",
      " [0 0 0 0 0 0 0 7 4]\n",
      " [0 0 5 2 0 6 3 0 0]]\n",
      "SOLUTION\n",
      "[[3 1 6 5 7 8 4 9 2]\n",
      " [5 2 9 1 3 4 7 6 8]\n",
      " [4 8 7 6 2 9 5 3 1]\n",
      " [2 6 3 4 1 5 9 8 7]\n",
      " [9 7 4 8 6 3 1 2 5]\n",
      " [8 5 1 7 9 2 6 4 3]\n",
      " [1 3 8 9 4 7 2 5 6]\n",
      " [6 9 2 3 5 1 8 7 4]\n",
      " [7 4 5 2 8 6 3 1 9]]\n"
     ]
    }
   ],
   "source": [
    "print(\"INPUT\")\n",
    "print(np.array(input_arr))\n",
    "print(\"SOLUTION\")\n",
    "print(np.array(solution_arr))"
   ]
  },
  {
   "cell_type": "code",
   "execution_count": null,
   "metadata": {},
   "outputs": [],
   "source": []
  }
 ],
 "metadata": {
  "kernelspec": {
   "display_name": "Python 3.7.9 64-bit ('msba': conda)",
   "language": "python",
   "name": "python37964bitmsbaconda92850c2aea1f40d29cc0977a921bc192"
  },
  "language_info": {
   "codemirror_mode": {
    "name": "ipython",
    "version": 3
   },
   "file_extension": ".py",
   "mimetype": "text/x-python",
   "name": "python",
   "nbconvert_exporter": "python",
   "pygments_lexer": "ipython3",
   "version": "3.7.9"
  }
 },
 "nbformat": 4,
 "nbformat_minor": 4
}
