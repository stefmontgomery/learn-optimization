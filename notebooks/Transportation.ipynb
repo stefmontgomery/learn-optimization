{
 "cells": [
  {
   "cell_type": "markdown",
   "metadata": {},
   "source": [
    "# Transportation problem\n",
    "\n",
    "A transportation problem has nodes that are associated with supply or demand, with lines (\"arcs\") between the nodes having associated profits or costs. The goal is to minimize or maximize an objective while satisfying the supply and demand constraints.\n",
    "\n",
    "As long as supplies and demands are integer values, the transportation problem will give an integer solution. We can put upper and lower bounds on variables and still get an integer solution."
   ]
  },
  {
   "cell_type": "markdown",
   "metadata": {},
   "source": [
    "## Problem description\n",
    "\n",
    "*This problem is from the MSBA optimization course.*\n",
    "\n",
    "There are three customers (A, B, and C) demanding goods from two plants (1, 2). Each customer requires 30 units. Plant 1 has 40 units, while plant 2 has 50 units. Each customer has negotiated a different per-unit costs with each plant. The goal is to ship the materials at minimum total cost."
   ]
  },
  {
   "cell_type": "markdown",
   "metadata": {},
   "source": [
    "## Mathematical formulation\n",
    "\n",
    "- Plants $i$\n",
    "- Customers $j$\n",
    "- $C_{i,j}$: Cost to ship one unit from plant $i$ to customer $j$\n",
    "- $S_{i}$: Supply from plant $i$\n",
    "- $D_{j}$: Demand of customer $j$\n",
    "\n",
    "**Variables**:\n",
    "\n",
    "- $x_{i,j}$: Units shipped from plant $i$ to customer $j$\n",
    "\n",
    "**Objective**:\n",
    "\n",
    "Minimize $\\sum\\nolimits_{i} \\sum\\nolimits_{j} x_{i,j} \\cdot C_{i,j}$\n",
    "\n",
    "**Constraints**:\n",
    "\n",
    "1. $\\sum\\nolimits_{i} x_{i,j} \\geq D_{j} \\forall j$ (must at least meet demand)\n",
    "2. $\\sum\\nolimits_{j} x_{i,j} \\leq S_{i} \\forall j$ (cannot exceed supply)\n",
    "3. $x_{i,j} > 0$ (non-negative units)"
   ]
  },
  {
   "cell_type": "markdown",
   "metadata": {},
   "source": [
    "## PuLP model"
   ]
  },
  {
   "cell_type": "code",
   "execution_count": 1,
   "metadata": {},
   "outputs": [],
   "source": [
    "import pulp"
   ]
  },
  {
   "cell_type": "code",
   "execution_count": 2,
   "metadata": {},
   "outputs": [],
   "source": [
    "# Transportation Problem: data\n",
    "#\n",
    "Plants = ['Plant 1', 'Plant 2']\n",
    "Customers = ['Cust A', 'Cust B', 'Cust C']\n",
    "\n",
    "Cost = {\n",
    "    ('Plant 1', 'Cust A') : 15,\n",
    "    ('Plant 1', 'Cust B') : 35,\n",
    "    ('Plant 1', 'Cust C') : 25,\n",
    "    ('Plant 2', 'Cust A') : 10,\n",
    "    ('Plant 2', 'Cust B') : 30,\n",
    "    ('Plant 2', 'Cust C') : 40\n",
    "}\n",
    "\n",
    "Supply = {\n",
    "    'Plant 1' : 40,\n",
    "    'Plant 2' : 50\n",
    "}\n",
    "\n",
    "Demand = {\n",
    "    'Cust A' : 30,\n",
    "    'Cust B' : 30,\n",
    "    'Cust C' : 30,\n",
    "}"
   ]
  },
  {
   "cell_type": "code",
   "execution_count": 10,
   "metadata": {},
   "outputs": [],
   "source": [
    "## Create model as minimization problem\n",
    "mdl = pulp.LpProblem(\"TransportationProblem\", pulp.LpMinimize)"
   ]
  },
  {
   "cell_type": "code",
   "execution_count": 11,
   "metadata": {},
   "outputs": [],
   "source": [
    "## Create the foods amount variable\n",
    "units = pulp.LpVariable.dicts(\"Units\", ((p, c) for p in Plants for c in Customers), lowBound = 0)"
   ]
  },
  {
   "cell_type": "code",
   "execution_count": 12,
   "metadata": {},
   "outputs": [],
   "source": [
    "## Minimize the total cost of shipping\n",
    "mdl += pulp.lpSum([units[p,c] * Cost[p,c] for p in Plants for c in Customers])"
   ]
  },
  {
   "cell_type": "code",
   "execution_count": 13,
   "metadata": {},
   "outputs": [],
   "source": [
    "## Constraint 1: Must meet demand\n",
    "for c in Customers:\n",
    "    mdl += (pulp.lpSum(units[p,c] for p in Plants) >= Demand[c], \"Demand_\"+c)"
   ]
  },
  {
   "cell_type": "code",
   "execution_count": 14,
   "metadata": {},
   "outputs": [],
   "source": [
    "## Constraint 2: Must not exceed supply\n",
    "for p in Plants:\n",
    "    mdl += (pulp.lpSum(units[p,c] for c in Customers) <= Supply[p], \"Supply\"+p)"
   ]
  },
  {
   "cell_type": "code",
   "execution_count": 15,
   "metadata": {},
   "outputs": [
    {
     "data": {
      "text/plain": [
       "1"
      ]
     },
     "execution_count": 15,
     "metadata": {},
     "output_type": "execute_result"
    }
   ],
   "source": [
    "mdl.solve()"
   ]
  },
  {
   "cell_type": "markdown",
   "metadata": {},
   "source": [
    "## Solution report"
   ]
  },
  {
   "cell_type": "code",
   "execution_count": 16,
   "metadata": {},
   "outputs": [
    {
     "name": "stdout",
     "output_type": "stream",
     "text": [
      "Solve status: Optimal\n"
     ]
    }
   ],
   "source": [
    "print(\"Solve status: {:s}\".format(pulp.LpStatus[mdl.status]))"
   ]
  },
  {
   "cell_type": "code",
   "execution_count": 17,
   "metadata": {},
   "outputs": [
    {
     "name": "stdout",
     "output_type": "stream",
     "text": [
      "Min cost: 2000.00\n"
     ]
    }
   ],
   "source": [
    "obj = pulp.value(mdl.objective)\n",
    "print(\"Min cost: {:.2f}\".format(obj))"
   ]
  },
  {
   "cell_type": "code",
   "execution_count": 22,
   "metadata": {},
   "outputs": [
    {
     "name": "stdout",
     "output_type": "stream",
     "text": [
      "Plant 1 to Cust A: 10\n",
      "Plant 1 to Cust C: 30\n",
      "Plant 2 to Cust A: 20\n",
      "Plant 2 to Cust B: 30\n"
     ]
    }
   ],
   "source": [
    "for (p,c) in Cost.keys():\n",
    "    u = pulp.value(units[p,c])\n",
    "    if (u > 0):\n",
    "        print(\"{:s} to {:s}: {:.0f}\".format(p, c, u))"
   ]
  },
  {
   "cell_type": "markdown",
   "metadata": {},
   "source": [
    "## Problem variant\n",
    "\n",
    "Let's say plant 1 only has 30 units available, while all other values remain the same. Now we are unable to meet all of the possible demand. Here, we introduce a \"dummy\" plant to track the unmet demand. Additionally, each plant will incur a shortage cost because of unmet demand.\n",
    "\n",
    "We can also introduce shipping restrictions such that each plant is contractually required to deliver a certain number of units to certain customers."
   ]
  },
  {
   "cell_type": "markdown",
   "metadata": {},
   "source": [
    "## PuLP model"
   ]
  },
  {
   "cell_type": "code",
   "execution_count": 23,
   "metadata": {},
   "outputs": [],
   "source": [
    "# Transportation Problem: data\n",
    "#\n",
    "# For this variant we introduce a 'dummy' plant to represent unmet demand (10 units)\n",
    "Plants = ['Plant 1', 'Plant 2', 'Plant 3']\n",
    "Customers = ['Cust A', 'Cust B', 'Cust C']\n",
    "\n",
    "Cost = {\n",
    "    ('Plant 1', 'Cust A') : 15,\n",
    "    ('Plant 1', 'Cust B') : 35,\n",
    "    ('Plant 1', 'Cust C') : 25,\n",
    "    ('Plant 2', 'Cust A') : 10,\n",
    "    ('Plant 2', 'Cust B') : 30,\n",
    "    ('Plant 2', 'Cust C') : 40,\n",
    "    ('Plant 3', 'Cust A') : 20,\n",
    "    ('Plant 3', 'Cust B') : 10,\n",
    "    ('Plant 3', 'Cust C') : 30\n",
    "}\n",
    "\n",
    "Supply = {\n",
    "    'Plant 1' : 30,\n",
    "    'Plant 2' : 50,\n",
    "    'Plant 3' : 10\n",
    "}\n",
    "\n",
    "Demand = {\n",
    "    'Cust A' : 30,\n",
    "    'Cust B' : 30,\n",
    "    'Cust C' : 30,\n",
    "}"
   ]
  },
  {
   "cell_type": "code",
   "execution_count": 26,
   "metadata": {},
   "outputs": [
    {
     "data": {
      "text/plain": [
       "1"
      ]
     },
     "execution_count": 26,
     "metadata": {},
     "output_type": "execute_result"
    }
   ],
   "source": [
    "## Create model as minimization problem\n",
    "mdl = pulp.LpProblem(\"TransportationProblem\", pulp.LpMinimize)\n",
    "\n",
    "## Create the foods amount variable\n",
    "units = pulp.LpVariable.dicts(\"Units\", ((p, c) for p in Plants for c in Customers), lowBound = 0)\n",
    "\n",
    "## Minimize the total cost of shipping\n",
    "mdl += pulp.lpSum([units[p,c] * Cost[p,c] for p in Plants for c in Customers])\n",
    "\n",
    "## Constraint 1: Must meet demand\n",
    "for c in Customers:\n",
    "    mdl += (pulp.lpSum(units[p,c] for p in Plants) >= Demand[c], \"Demand_\"+c)\n",
    "\n",
    "## Constraint 2: Must not exceed supply\n",
    "for p in Plants:\n",
    "    mdl += (pulp.lpSum(units[p,c] for c in Customers) <= Supply[p], \"Supply\"+p)\n",
    "    \n",
    "# Further restrictions: ship at least 5 units from 1 to B; ship at most 20 units from 1 to C:\n",
    "mdl += (units['Plant 1','Cust B'] >= 5)\n",
    "mdl += (units['Plant 1','Cust C'] <= 20)\n",
    "\n",
    "mdl.solve()"
   ]
  },
  {
   "cell_type": "code",
   "execution_count": 27,
   "metadata": {},
   "outputs": [
    {
     "name": "stdout",
     "output_type": "stream",
     "text": [
      "Solve status: Optimal\n",
      "Min cost: 1950.00\n",
      "Plant 1 to Cust A: 5\n",
      "Plant 1 to Cust B: 5\n",
      "Plant 1 to Cust C: 20\n",
      "Plant 2 to Cust A: 25\n",
      "Plant 2 to Cust B: 15\n",
      "Plant 2 to Cust C: 10\n",
      "Plant 3 to Cust B: 10\n"
     ]
    }
   ],
   "source": [
    "print(\"Solve status: {:s}\".format(pulp.LpStatus[mdl.status]))\n",
    "\n",
    "obj = pulp.value(mdl.objective)\n",
    "print(\"Min cost: {:.2f}\".format(obj))\n",
    "\n",
    "for (p,c) in Cost.keys():\n",
    "    u = pulp.value(units[p,c])\n",
    "    if (u > 0):\n",
    "        print(\"{:s} to {:s}: {:.0f}\".format(p, c, u))"
   ]
  }
 ],
 "metadata": {
  "kernelspec": {
   "display_name": "Python 3.7.9 64-bit ('msba': conda)",
   "language": "python",
   "name": "python37964bitmsbaconda92850c2aea1f40d29cc0977a921bc192"
  },
  "language_info": {
   "codemirror_mode": {
    "name": "ipython",
    "version": 3
   },
   "file_extension": ".py",
   "mimetype": "text/x-python",
   "name": "python",
   "nbconvert_exporter": "python",
   "pygments_lexer": "ipython3",
   "version": "3.7.9"
  }
 },
 "nbformat": 4,
 "nbformat_minor": 4
}
